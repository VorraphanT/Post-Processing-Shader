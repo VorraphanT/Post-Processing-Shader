{
 "cells": [
  {
   "cell_type": "code",
   "execution_count": 1,
   "id": "b62aeaea",
   "metadata": {},
   "outputs": [],
   "source": [
    "import numpy as np\n",
    "import matplotlib.pyplot as plt\n",
    "from scipy.ndimage import gaussian_filter"
   ]
  },
  {
   "cell_type": "code",
   "execution_count": null,
   "id": "d5cae201",
   "metadata": {},
   "outputs": [
    {
     "name": "stdout",
     "output_type": "stream",
     "text": [
      "23, 11, 50, 35, 33, 27, 39, 5, 61, 29, 43, 62, 56, 7, 45, 8, 59, 40, 18, 28, 36, 24, 2, 19, 55, 32, 1, 52, 37, 57, 44, 60, 17, 21, 49, 41, 16, 47, 63, 12, 53, 3, 30, 51, 58, 42, 14, 15, 48, 4, 13, 0, 9, 26, 6, 31, 46, 10, 25, 22, 34, 38, 54, 20\n"
     ]
    }
   ],
   "source": [
    "def generate_void_and_cluster_matrix(size):\n",
    "    matrix = np.full((size, size), -1)\n",
    "    values = [i for i in range(size**2)]\n",
    "    np.random.shuffle(values)\n",
    "    i = j = size//2\n",
    "    matrix[i,j] = values.pop()\n",
    "\n",
    "    for k in range(size * size - 1, 0, -1):\n",
    "        temp = matrix >= 0\n",
    "        blurred = gaussian_filter(1 - temp, sigma=3.0)\n",
    "        y, x = np.unravel_index(np.argmax(blurred), (size, size))\n",
    "        while matrix[y, x] >= 0:\n",
    "            blurred[y, x] = -2_147_483_648\n",
    "            y, x = np.unravel_index(np.argmax(blurred), (size, size))\n",
    "\n",
    "        matrix[y, x] = values.pop()\n",
    "    return matrix"
   ]
  },
  {
   "cell_type": "code",
   "execution_count": 3,
   "id": "fcc5edd2",
   "metadata": {},
   "outputs": [
    {
     "name": "stdout",
     "output_type": "stream",
     "text": [
      "7, 0, 1, 6, 13, 12, 15, 5, 14, 9, 4, 8, 3, 10, 11, 2\n"
     ]
    }
   ],
   "source": [
    "matrix = generate_void_and_cluster_matrix(4)\n",
    "flat_matrix = matrix.flatten()\n",
    "print(\", \".join(f\"{v}\" for v in flat_matrix))"
   ]
  }
 ],
 "metadata": {
  "kernelspec": {
   "display_name": "dsde-cp",
   "language": "python",
   "name": "python3"
  },
  "language_info": {
   "codemirror_mode": {
    "name": "ipython",
    "version": 3
   },
   "file_extension": ".py",
   "mimetype": "text/x-python",
   "name": "python",
   "nbconvert_exporter": "python",
   "pygments_lexer": "ipython3",
   "version": "3.11.11"
  }
 },
 "nbformat": 4,
 "nbformat_minor": 5
}
