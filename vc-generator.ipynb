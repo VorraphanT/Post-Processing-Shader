{
 "cells": [
  {
   "cell_type": "code",
   "execution_count": 1,
   "id": "b62aeaea",
   "metadata": {},
   "outputs": [],
   "source": [
    "import numpy as np\n",
    "import matplotlib.pyplot as plt\n",
    "from scipy.ndimage import gaussian_filter"
   ]
  },
  {
   "cell_type": "code",
   "execution_count": 4,
   "id": "d5cae201",
   "metadata": {},
   "outputs": [
    {
     "name": "stdout",
     "output_type": "stream",
     "text": [
      "17, 39, 61, 6, 24, 36, 22, 52, 26, 14, 27, 57, 23, 63, 59, 48, 44, 15, 18, 4, 32, 29, 11, 25, 19, 3, 12, 1, 13, 9, 8, 16, 50, 35, 42, 60, 0, 56, 34, 38, 58, 10, 43, 40, 41, 45, 51, 53, 47, 28, 20, 37, 30, 62, 33, 49, 21, 55, 5, 54, 31, 2, 46, 7\n"
     ]
    }
   ],
   "source": [
    "def generate_void_and_cluster_matrix(size):\n",
    "    matrix = np.full((size, size), -1)\n",
    "    values = [i for i in range(size**2)]\n",
    "    np.random.shuffle(values)\n",
    "    i = j = size//2\n",
    "    matrix[i,j] = values.pop()\n",
    "\n",
    "    for k in range(size * size - 1, 0, -1):\n",
    "        temp = matrix >= 0\n",
    "        blurred = gaussian_filter(1 - temp, sigma=3.0)\n",
    "        y, x = np.unravel_index(np.argmax(blurred), (size, size))\n",
    "        while matrix[y, x] >= 0:\n",
    "            blurred[y, x] = -2_147_483_648\n",
    "            y, x = np.unravel_index(np.argmax(blurred), (size, size))\n",
    "\n",
    "        matrix[y, x] = values.pop()\n",
    "    return matrix\n",
    "\n",
    "\n",
    "matrix = generate_void_and_cluster_matrix(8)\n",
    "flat_matrix = matrix.flatten()\n",
    "print(\", \".join(f\"{v}\" for v in flat_matrix))\n",
    "\n",
    "\n"
   ]
  }
 ],
 "metadata": {
  "kernelspec": {
   "display_name": "dsde-cp",
   "language": "python",
   "name": "python3"
  },
  "language_info": {
   "codemirror_mode": {
    "name": "ipython",
    "version": 3
   },
   "file_extension": ".py",
   "mimetype": "text/x-python",
   "name": "python",
   "nbconvert_exporter": "python",
   "pygments_lexer": "ipython3",
   "version": "3.11.11"
  }
 },
 "nbformat": 4,
 "nbformat_minor": 5
}
